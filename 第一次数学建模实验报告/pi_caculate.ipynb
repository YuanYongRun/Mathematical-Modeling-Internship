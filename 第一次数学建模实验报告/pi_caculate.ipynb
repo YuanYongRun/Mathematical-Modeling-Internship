{
 "cells": [
  {
   "cell_type": "code",
   "execution_count": 6,
   "metadata": {},
   "outputs": [],
   "source": [
    "def Wallis_caculate_pi(n):\n",
    "    k = 1\n",
    "    multiple = 1\n",
    "    while(k<=n):\n",
    "        temp=2*k/(2*k-1)*2*k/(2*k+1)\n",
    "        multiple = multiple*temp\n",
    "        k+=1\n",
    "    return multiple*2"
   ]
  },
  {
   "cell_type": "code",
   "execution_count": 41,
   "metadata": {},
   "outputs": [
    {
     "name": "stdout",
     "output_type": "stream",
     "text": [
      "沃利斯求解π:\n",
      "k=10时近似值为:3.0677038066434976\n",
      "k=20时近似值为:3.1035169615392304\n",
      "k=50时近似值为:3.1260789002154086\n",
      "k=100时近似值为:3.1337874906281593\n",
      "k=300时近似值为:3.138980103882125\n",
      "k=500时近似值为:3.1400238186005947\n",
      "k=700时近似值为:3.1404716572102904\n",
      "k=1000时近似值为:3.1408077460303976\n",
      "k=3000时近似值为:3.141330908733516\n",
      "k=5000时近似值为:3.1414355935898683\n",
      "k=7000时近似值为:3.14148046386916\n",
      "k=10000时近似值为:3.1415141186818643\n"
     ]
    }
   ],
   "source": [
    "print(\"沃利斯求解π:\")\n",
    "for i in ([10,20,50,100,300,500,700,1000,3000,5000,7000,10000]):\n",
    "    print(f\"k={i}时近似值为:{Wallis_caculate_pi(i)}\")"
   ]
  },
  {
   "cell_type": "code",
   "execution_count": 20,
   "metadata": {},
   "outputs": [],
   "source": [
    "def tayor_caculate(x,n):\n",
    "    k = 0\n",
    "    sum = 0\n",
    "    while(k<=n):\n",
    "        temp = (-1)**k*(x**(2*k+1)/(2*k+1))\n",
    "        sum += temp\n",
    "        k += 1\n",
    "    return sum*4\n",
    "\n"
   ]
  },
  {
   "cell_type": "code",
   "execution_count": 43,
   "metadata": {},
   "outputs": [
    {
     "name": "stdout",
     "output_type": "stream",
     "text": [
      "Tayor法求解:\n",
      "k=10时近似值为:3.232315809405594\n",
      "k=20时近似值为:3.189184782277596\n",
      "k=50时近似值为:3.1611986129870506\n",
      "k=100时近似值为:3.1514934010709914\n",
      "k=300时近似值为:3.1449149035588526\n",
      "k=500时近似值为:3.143588659585789\n",
      "k=700时近似值为:3.1430191863875865\n",
      "k=1000时近似值为:3.1425916543395442\n",
      "k=3000时近似值为:3.1419258758397897\n",
      "k=5000时近似值为:3.1417926135957908\n",
      "k=7000时近似值为:3.141735490326666\n",
      "k=10000时近似值为:3.1416926435905346\n"
     ]
    }
   ],
   "source": [
    "print(\"Tayor法求解:\")\n",
    "for i in ([10,20,50,100,300,500,700,1000,3000,5000,7000,10000]):\n",
    "    print(f\"k={i}时近似值为:{tayor_caculate(1,i)}\")"
   ]
  },
  {
   "cell_type": "code",
   "execution_count": 36,
   "metadata": {},
   "outputs": [
    {
     "name": "stdout",
     "output_type": "stream",
     "text": [
      "等式法直接求解:\n",
      "k=2时近似值为:3.1455761316872426\n",
      "k=4时近似值为:3.1417411974336886\n",
      "k=6时近似值为:3.141599340966198\n",
      "k=8时近似值为:3.1415929813345667\n",
      "k=10时近似值为:3.1415926704506854\n",
      "k=12时近似值为:3.141592654485348\n",
      "k=14时近似值为:3.1415926536384573\n",
      "k=16时近似值为:3.1415926535924825\n",
      "k=18时近似值为:3.141592653589943\n",
      "k=20时近似值为:3.141592653589801\n",
      "k=22时近似值为:3.1415926535897927\n",
      "k=24时近似值为:3.1415926535897922\n"
     ]
    }
   ],
   "source": [
    "print(\"等式法直接求解:\")\n",
    "for i in range(2,26,2):\n",
    "    print(f\"k={i}时近似值为:{tayor_caculate(1/2,i)+tayor_caculate(1/3,i)}\")"
   ]
  },
  {
   "cell_type": "code",
   "execution_count": 44,
   "metadata": {},
   "outputs": [
    {
     "name": "stdout",
     "output_type": "stream",
     "text": [
      "麦瑟法直接求解:\n",
      "k=2时近似值为:3.1416210293250346\n",
      "k=4时近似值为:3.1415926824043994\n",
      "k=6时近似值为:3.141592653623555\n",
      "k=8时近似值为:3.141592653589836\n",
      "k=10时近似值为:3.141592653589794\n",
      "k=12时近似值为:3.141592653589794\n",
      "k=14时近似值为:3.141592653589794\n",
      "k=16时近似值为:3.141592653589794\n",
      "k=18时近似值为:3.141592653589794\n",
      "k=20时近似值为:3.141592653589794\n",
      "k=22时近似值为:3.141592653589794\n",
      "k=24时近似值为:3.141592653589794\n"
     ]
    }
   ],
   "source": [
    "print(\"麦瑟法直接求解:\")\n",
    "for i in range(2,26,2):\n",
    "    print(f\"k={i}时近似值为:{4*tayor_caculate(1/5,i)-tayor_caculate(1/239,i)}\")"
   ]
  },
  {
   "cell_type": "code",
   "execution_count": 52,
   "metadata": {},
   "outputs": [
    {
     "name": "stdout",
     "output_type": "stream",
     "text": [
      "概率方法求解:\n",
      "k=20000时近似值为:3.156\n",
      "k=40000时近似值为:3.1476\n",
      "k=60000时近似值为:3.1281333333333334\n",
      "k=80000时近似值为:3.1455\n",
      "k=100000时近似值为:3.13192\n",
      "k=120000时近似值为:3.146733333333333\n",
      "k=140000时近似值为:3.147885714285714\n",
      "k=160000时近似值为:3.140225\n",
      "k=180000时近似值为:3.146377777777778\n",
      "k=200000时近似值为:3.13942\n",
      "k=220000时近似值为:3.1394727272727274\n",
      "k=240000时近似值为:3.1418833333333334\n"
     ]
    }
   ],
   "source": [
    "# 利用概率方法求解π\n",
    "import random\n",
    "def monte_carlo_pi(points):\n",
    "    inside_circle = 0\n",
    "    for _ in range(points):\n",
    "        x, y = random.random(), random.random()\n",
    "        if (x ** 2 + y ** 2) <= 1.0:\n",
    "            inside_circle += 1\n",
    "    return 4 * (inside_circle / points)\n",
    " \n",
    "print(\"概率方法求解:\")\n",
    "for i in range(20000,260000,20000):\n",
    "    print(f\"k={i}时近似值为:{monte_carlo_pi(i)}\")"
   ]
  },
  {
   "cell_type": "code",
   "execution_count": 62,
   "metadata": {},
   "outputs": [
    {
     "name": "stdout",
     "output_type": "stream",
     "text": [
      "π的计算值为: 3.141592653638244\n",
      "π的计算值为: 3.141580817524002\n"
     ]
    }
   ],
   "source": [
    "import math\n",
    "from scipy.integrate import romberg\n",
    " \n",
    "def pi_integrand1(x):\n",
    "    return 1 / (1 + x ** 2)\n",
    "def pi_integrand2(x):\n",
    "    return math.sqrt(1 - x**2)\n",
    "def calculate_pi1(function):\n",
    "    a, b = 0, 1  # 积分下限和上限\n",
    "    return romberg(function, a, b) * 4\n",
    " \n",
    "print(f\"π的计算值为: {calculate_pi1(pi_integrand1)}\")\n",
    "print(f\"π的计算值为: {calculate_pi1(pi_integrand2)}\")"
   ]
  }
 ],
 "metadata": {
  "kernelspec": {
   "display_name": "base",
   "language": "python",
   "name": "python3"
  },
  "language_info": {
   "codemirror_mode": {
    "name": "ipython",
    "version": 3
   },
   "file_extension": ".py",
   "mimetype": "text/x-python",
   "name": "python",
   "nbconvert_exporter": "python",
   "pygments_lexer": "ipython3",
   "version": "3.11.4"
  }
 },
 "nbformat": 4,
 "nbformat_minor": 2
}
