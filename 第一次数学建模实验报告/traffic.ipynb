{
 "cells": [
  {
   "cell_type": "code",
   "execution_count": 1,
   "metadata": {},
   "outputs": [],
   "source": [
    "import numpy as np\n",
    "import math\n",
    "import matplotlib.pyplot as plt\n",
    "from scipy.optimize import least_squares"
   ]
  },
  {
   "cell_type": "markdown",
   "metadata": {},
   "source": [
    "### 定义拟合函数及其残差函数"
   ]
  },
  {
   "cell_type": "code",
   "execution_count": 2,
   "metadata": {},
   "outputs": [],
   "source": [
    "def circle_residuals(params,points):\n",
    "    x0,y0,r = params\n",
    "    residuals = []\n",
    "    for point in points:\n",
    "        residual = (point[0]-x0)**2+(point[1]-y0)**2-r**2\n",
    "        residuals.append(residual)\n",
    "    return residuals\n",
    "\n",
    "def fit_circle(points):\n",
    "    x_data = [point[0] for point in points ]\n",
    "    y_data = [point[1] for point in points]\n",
    "    # 初始估计值\n",
    "    x0 = np.mean(x_data)\n",
    "    y0 = np.mean(y_data)\n",
    "    r = np.mean([np.sqrt((x-x0)**2+(y-y0)**2) for x,y in zip(x_data,y_data)])\n",
    "    # 最小二乘法拟合\n",
    "    params0 = [x0,y0,r]\n",
    "    result = least_squares(circle_residuals,params0,args=(points,))\n",
    "    x0_fit,y0_fit,r_fit = result.x\n",
    "    # 计算弓形高度\n",
    "    arc_height = abs(r_fit)-abs(y0_fit)\n",
    "    # 计算弦长\n",
    "    x_intersect_length = 2*math.sqrt(abs(r_fit)**2-(abs(r_fit)-abs(arc_height))**2)\n",
    "    return x0_fit,y0_fit,abs(r_fit),arc_height,x_intersect_length"
   ]
  },
  {
   "cell_type": "code",
   "execution_count": 4,
   "metadata": {},
   "outputs": [
    {
     "name": "stdout",
     "output_type": "stream",
     "text": [
      "拟合圆的半径为:40.67788553908053\n",
      "弓形高度为3.554144967069668\n",
      "弦长为33.25767627917329\n",
      "拟合圆的中心为(16.64079097607902, -37.12374057201086)\n",
      "速度为18.235726316272224\n"
     ]
    }
   ],
   "source": [
    "points = [(0,0),(3,1.19),(6,2.15),(9,2.82),(12,3.28),(15,3.53),(16.64,3.55),(18,3.54),(21,3.31),(24,2.89),(27,2.22),(30,1.29),(33.27,0)]\n",
    "center_1,center_2,radius,arc_height,xianchang= fit_circle(points)\n",
    "kg = 8.175\n",
    "v = math.sqrt(kg*radius)\n",
    "print(f\"拟合圆的半径为:{radius}\\n弓形高度为{arc_height}\\n弦长为{xianchang}\\n拟合圆的中心为{center_1,center_2}\\n速度为{v}\")"
   ]
  },
  {
   "cell_type": "code",
   "execution_count": 5,
   "metadata": {},
   "outputs": [
    {
     "data": {
      "image/png": "[encoded data removed]",
      "text/plain": [
       "<Figure size 500x500 with 1 Axes>"
      ]
     },
     "metadata": {},
     "output_type": "display_data"
    }
   ],
   "source": [
    "plt.figure(figsize=(5,5))\n",
    "ax = plt.gca()\n",
    "ax.plot([point[0] for point in points],[point[1] for point in points],'go',label=\"Original Points\")\n",
    "ax.plot(center_1,center_2, 'ro',label=\"Fitted Circle\")\n",
    "circle = plt.Circle((center_1,center_2), radius, color='b', fill=False)\n",
    "ax.add_artist(circle)\n",
    "plt.show()"
   ]
  }
 ],
 "metadata": {
  "kernelspec": {
   "display_name": "base",
   "language": "python",
   "name": "python3"
  },
  "language_info": {
   "codemirror_mode": {
    "name": "ipython",
    "version": 3
   },
   "file_extension": ".py",
   "mimetype": "text/x-python",
   "name": "python",
   "nbconvert_exporter": "python",
   "pygments_lexer": "ipython3",
   "version": "3.11.4"
  }
 },
 "nbformat": 4,
 "nbformat_minor": 2
}
